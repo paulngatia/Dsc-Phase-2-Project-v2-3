{
 "cells": [
  {
   "cell_type": "markdown",
   "metadata": {},
   "source": [
    "# **Phase 2 Project** \n",
    "\n",
    "  #### GROUP 6\n",
    "  1. PAUL NGATIA\n",
    "  2. HARRY ATULAH\n",
    "  3. PASCALIA MAIGA\n",
    "  4. RONNY KABIRU "
   ]
  },
  {
   "cell_type": "markdown",
   "metadata": {},
   "source": [
    "# Business Understanding\n",
    "  ## Overview\n",
    "Primetime Realtors situated in the heart of a North Western County acts as the conduit for transforming homeownership aspirations into tangible realities. Committed to unwavering excellence and employing data-driven methodologies, the agency aspires to lead the way in achieving optimal pricing and facilitating successful real estate endeavors. Its overarching objective is to surpass traditional limitations by leveraging technology and analytical insights to revolutionize the real estate landscape as we perceive it.\n",
    "  ## Business Problem \n",
    "  The housing market in King County displays diverse trends and influences on property prices. Yet, a more thorough understanding of these factors is necessary to assist real estate stakeholders in making informed choices. The main challenge is to construct a reliable pricing model capable of accurately forecasting house prices using multiple features. This model should offer insights into the most influential features on property prices, empowering Primetime Realtors make well-informed decisions.\n",
    "  ## Objectives\n",
    "- To identify key features that significantly influence house prices in the northwestern county.\n",
    "- To develop an optimal pricing strategy using a robust multiple linear regression model.\n",
    "- To help improve the agency's annual revenue by leveraging the analytical insights and pricing strategy developed through this project.\n",
    "\n"
   ]
  },
  {
   "cell_type": "code",
   "execution_count": 1,
   "metadata": {},
   "outputs": [],
   "source": [
    "##!pip3 install -U scikit-learn"
   ]
  },
  {
   "cell_type": "markdown",
   "metadata": {},
   "source": [
    "## Importing the Data"
   ]
  },
  {
   "cell_type": "code",
   "execution_count": 2,
   "metadata": {},
   "outputs": [
    {
     "data": {
      "text/html": [
       "<div>\n",
       "<style scoped>\n",
       "    .dataframe tbody tr th:only-of-type {\n",
       "        vertical-align: middle;\n",
       "    }\n",
       "\n",
       "    .dataframe tbody tr th {\n",
       "        vertical-align: top;\n",
       "    }\n",
       "\n",
       "    .dataframe thead th {\n",
       "        text-align: right;\n",
       "    }\n",
       "</style>\n",
       "<table border=\"1\" class=\"dataframe\">\n",
       "  <thead>\n",
       "    <tr style=\"text-align: right;\">\n",
       "      <th></th>\n",
       "      <th>id</th>\n",
       "      <th>date</th>\n",
       "      <th>price</th>\n",
       "      <th>bedrooms</th>\n",
       "      <th>bathrooms</th>\n",
       "      <th>sqft_living</th>\n",
       "      <th>sqft_lot</th>\n",
       "      <th>floors</th>\n",
       "      <th>waterfront</th>\n",
       "      <th>view</th>\n",
       "      <th>...</th>\n",
       "      <th>grade</th>\n",
       "      <th>sqft_above</th>\n",
       "      <th>sqft_basement</th>\n",
       "      <th>yr_built</th>\n",
       "      <th>yr_renovated</th>\n",
       "      <th>zipcode</th>\n",
       "      <th>lat</th>\n",
       "      <th>long</th>\n",
       "      <th>sqft_living15</th>\n",
       "      <th>sqft_lot15</th>\n",
       "    </tr>\n",
       "  </thead>\n",
       "  <tbody>\n",
       "    <tr>\n",
       "      <th>0</th>\n",
       "      <td>7129300520</td>\n",
       "      <td>10/13/2014</td>\n",
       "      <td>221900.0</td>\n",
       "      <td>3</td>\n",
       "      <td>1.00</td>\n",
       "      <td>1180</td>\n",
       "      <td>5650</td>\n",
       "      <td>1.0</td>\n",
       "      <td>NaN</td>\n",
       "      <td>NONE</td>\n",
       "      <td>...</td>\n",
       "      <td>7 Average</td>\n",
       "      <td>1180</td>\n",
       "      <td>0.0</td>\n",
       "      <td>1955</td>\n",
       "      <td>0.0</td>\n",
       "      <td>98178</td>\n",
       "      <td>47.5112</td>\n",
       "      <td>-122.257</td>\n",
       "      <td>1340</td>\n",
       "      <td>5650</td>\n",
       "    </tr>\n",
       "    <tr>\n",
       "      <th>1</th>\n",
       "      <td>6414100192</td>\n",
       "      <td>12/9/2014</td>\n",
       "      <td>538000.0</td>\n",
       "      <td>3</td>\n",
       "      <td>2.25</td>\n",
       "      <td>2570</td>\n",
       "      <td>7242</td>\n",
       "      <td>2.0</td>\n",
       "      <td>NO</td>\n",
       "      <td>NONE</td>\n",
       "      <td>...</td>\n",
       "      <td>7 Average</td>\n",
       "      <td>2170</td>\n",
       "      <td>400.0</td>\n",
       "      <td>1951</td>\n",
       "      <td>1991.0</td>\n",
       "      <td>98125</td>\n",
       "      <td>47.7210</td>\n",
       "      <td>-122.319</td>\n",
       "      <td>1690</td>\n",
       "      <td>7639</td>\n",
       "    </tr>\n",
       "    <tr>\n",
       "      <th>2</th>\n",
       "      <td>5631500400</td>\n",
       "      <td>2/25/2015</td>\n",
       "      <td>180000.0</td>\n",
       "      <td>2</td>\n",
       "      <td>1.00</td>\n",
       "      <td>770</td>\n",
       "      <td>10000</td>\n",
       "      <td>1.0</td>\n",
       "      <td>NO</td>\n",
       "      <td>NONE</td>\n",
       "      <td>...</td>\n",
       "      <td>6 Low Average</td>\n",
       "      <td>770</td>\n",
       "      <td>0.0</td>\n",
       "      <td>1933</td>\n",
       "      <td>NaN</td>\n",
       "      <td>98028</td>\n",
       "      <td>47.7379</td>\n",
       "      <td>-122.233</td>\n",
       "      <td>2720</td>\n",
       "      <td>8062</td>\n",
       "    </tr>\n",
       "    <tr>\n",
       "      <th>3</th>\n",
       "      <td>2487200875</td>\n",
       "      <td>12/9/2014</td>\n",
       "      <td>604000.0</td>\n",
       "      <td>4</td>\n",
       "      <td>3.00</td>\n",
       "      <td>1960</td>\n",
       "      <td>5000</td>\n",
       "      <td>1.0</td>\n",
       "      <td>NO</td>\n",
       "      <td>NONE</td>\n",
       "      <td>...</td>\n",
       "      <td>7 Average</td>\n",
       "      <td>1050</td>\n",
       "      <td>910.0</td>\n",
       "      <td>1965</td>\n",
       "      <td>0.0</td>\n",
       "      <td>98136</td>\n",
       "      <td>47.5208</td>\n",
       "      <td>-122.393</td>\n",
       "      <td>1360</td>\n",
       "      <td>5000</td>\n",
       "    </tr>\n",
       "    <tr>\n",
       "      <th>4</th>\n",
       "      <td>1954400510</td>\n",
       "      <td>2/18/2015</td>\n",
       "      <td>510000.0</td>\n",
       "      <td>3</td>\n",
       "      <td>2.00</td>\n",
       "      <td>1680</td>\n",
       "      <td>8080</td>\n",
       "      <td>1.0</td>\n",
       "      <td>NO</td>\n",
       "      <td>NONE</td>\n",
       "      <td>...</td>\n",
       "      <td>8 Good</td>\n",
       "      <td>1680</td>\n",
       "      <td>0.0</td>\n",
       "      <td>1987</td>\n",
       "      <td>0.0</td>\n",
       "      <td>98074</td>\n",
       "      <td>47.6168</td>\n",
       "      <td>-122.045</td>\n",
       "      <td>1800</td>\n",
       "      <td>7503</td>\n",
       "    </tr>\n",
       "  </tbody>\n",
       "</table>\n",
       "<p>5 rows × 21 columns</p>\n",
       "</div>"
      ],
      "text/plain": [
       "           id        date     price  bedrooms  bathrooms  sqft_living  \\\n",
       "0  7129300520  10/13/2014  221900.0         3       1.00         1180   \n",
       "1  6414100192   12/9/2014  538000.0         3       2.25         2570   \n",
       "2  5631500400   2/25/2015  180000.0         2       1.00          770   \n",
       "3  2487200875   12/9/2014  604000.0         4       3.00         1960   \n",
       "4  1954400510   2/18/2015  510000.0         3       2.00         1680   \n",
       "\n",
       "   sqft_lot  floors waterfront  view  ...          grade sqft_above  \\\n",
       "0      5650     1.0        NaN  NONE  ...      7 Average       1180   \n",
       "1      7242     2.0         NO  NONE  ...      7 Average       2170   \n",
       "2     10000     1.0         NO  NONE  ...  6 Low Average        770   \n",
       "3      5000     1.0         NO  NONE  ...      7 Average       1050   \n",
       "4      8080     1.0         NO  NONE  ...         8 Good       1680   \n",
       "\n",
       "   sqft_basement yr_built  yr_renovated  zipcode      lat     long  \\\n",
       "0            0.0     1955           0.0    98178  47.5112 -122.257   \n",
       "1          400.0     1951        1991.0    98125  47.7210 -122.319   \n",
       "2            0.0     1933           NaN    98028  47.7379 -122.233   \n",
       "3          910.0     1965           0.0    98136  47.5208 -122.393   \n",
       "4            0.0     1987           0.0    98074  47.6168 -122.045   \n",
       "\n",
       "   sqft_living15  sqft_lot15  \n",
       "0           1340        5650  \n",
       "1           1690        7639  \n",
       "2           2720        8062  \n",
       "3           1360        5000  \n",
       "4           1800        7503  \n",
       "\n",
       "[5 rows x 21 columns]"
      ]
     },
     "execution_count": 2,
     "metadata": {},
     "output_type": "execute_result"
    }
   ],
   "source": [
    "# importing the necessary libraries\n",
    "import pandas as pd\n",
    "import numpy as np\n",
    "import matplotlib.pyplot as plt\n",
    "import seaborn as sns\n",
    "import statsmodels.api as sm \n",
    "import warnings\n",
    "%matplotlib inline\n",
    "sns.set_style('dark')\n",
    "warnings.filterwarnings('ignore')\n",
    "data = pd.read_csv('data/kc_house_data.csv')\n",
    "\n",
    "data.head()\n"
   ]
  },
  {
   "cell_type": "markdown",
   "metadata": {},
   "source": [
    "## Loading  the Data Into a Data Frame"
   ]
  },
  {
   "cell_type": "code",
   "execution_count": 3,
   "metadata": {},
   "outputs": [],
   "source": [
    "df = pd.read_csv(\"data/kc_house_data.csv\")"
   ]
  },
  {
   "cell_type": "markdown",
   "metadata": {},
   "source": [
    "## Data Understanding & Preparation\n",
    "Here we will explore the data to get a better understanding of its state, then decide on the steps we need to take to clean it. We will begin by defining some functions for the following tasks:\n",
    "- getting the shape of the data\n",
    "- getting data info\n",
    "- simple check for missing data\n",
    "- duplicates\n",
    "- descriptive stats\n",
    "\n",
    "We will then group together the helper function under a new function that explores the data for the above attributes. "
   ]
  },
  {
   "cell_type": "code",
   "execution_count": 4,
   "metadata": {},
   "outputs": [],
   "source": [
    "# function for shape of the data \n",
    "\n",
    "def data_shape(data):\n",
    "    \"\"\"Simple function to provide the shape of the data\"\"\"\n",
    "    out = print(f\"The DataFrame has:\\n\\t* {data.shape[0]} rows\\n\\t* {data.shape[1]} columns\", '\\n')\n",
    "\n",
    "    return out"
   ]
  },
  {
   "cell_type": "code",
   "execution_count": 5,
   "metadata": {},
   "outputs": [],
   "source": [
    "# function for info of the data \n",
    "\n",
    "def data_info(data):\n",
    "    \"\"\"Simple function to provide the info of the data\"\"\"\n",
    "    out = print(data.info(), '\\n')\n",
    "    \n",
    "    return out"
   ]
  },
  {
   "cell_type": "code",
   "execution_count": 6,
   "metadata": {},
   "outputs": [],
   "source": [
    "# function to check for missing values\n",
    "\n",
    "def data_missing(data):\n",
    "    \"\"\"Identify is the data has missing values\"\"\"\n",
    "    # identify if data has missing values(data.isnull().any())\n",
    "    # empty dict to store missing values\n",
    "    missing = []\n",
    "    for i in data.isnull().any():\n",
    "        # add the bool values to empty list \n",
    "        missing.append(i)\n",
    "    # covert list to set (if data has missing value, the list should have true and false)\n",
    "    missing_set = set(missing)\n",
    "    if (len(missing_set) == 1):\n",
    "        out = print(\"The Data has no missing values\", '\\n')\n",
    "    else:\n",
    "        out = print(f\"The Data has missing values.\", '\\n')\n",
    "\n",
    "    return out"
   ]
  },
  {
   "cell_type": "code",
   "execution_count": 7,
   "metadata": {},
   "outputs": [],
   "source": [
    "# function to check for duplicates\n",
    "\n",
    "def identify_duplicates(data):\n",
    "    \"\"\"Simple function to identify any duplicates\"\"\"\n",
    "    # identify the duplicates (dataframename.duplicated() , can add .sum() to get total count)\n",
    "    # empty list to store Bool results from duplicated\n",
    "    duplicates = []\n",
    "    for i in data.duplicated():\n",
    "        duplicates.append(i)\n",
    "    # identify if there is any duplicates. (If there is any we expect a True value in the list duplicates)\n",
    "    duplicates_set = set(duplicates) \n",
    "    if (len(duplicates_set) == 1):\n",
    "        out = print(\"The Data has no duplicates\", '\\n')\n",
    "    else:\n",
    "        no_true = 0\n",
    "        for val in duplicates:\n",
    "            if (val == True):\n",
    "                no_true += 1\n",
    "        # percentage of the data represented by duplicates \n",
    "        duplicates_percentage = np.round(((no_true / len(data)) * 100), 3)\n",
    "        out = print(f\"The Data has {no_true} duplicated rows.\\nThis constitutes {duplicates_percentage}% of the data set.\", '\\n')"
   ]
  },
  {
   "cell_type": "code",
   "execution_count": 8,
   "metadata": {},
   "outputs": [],
   "source": [
    "# function to check for duplicates on the ID column\n",
    "\n",
    "def unique_column_duplicates(data, column):\n",
    "    \"\"\"handling duplicates in unique column\"\"\"\n",
    "    # empty list to store the duplicate bools\n",
    "    duplicates = []\n",
    "    for i in data[column].duplicated():\n",
    "        duplicates.append(i)\n",
    "    \n",
    "    # identify if there are any duplicates\n",
    "    duplicates_set = set(duplicates)\n",
    "    if (len(duplicates_set) == 1):\n",
    "        out = print(f\"The column {column.title()} has no duplicates\", '\\n')\n",
    "    else:\n",
    "        no_true = 0\n",
    "        for val in duplicates:\n",
    "            if (val == True):\n",
    "                no_true += 1\n",
    "        # percentage of the data represented by duplicates \n",
    "        duplicates_percentage = np.round(((no_true / len(data)) * 100), 3)\n",
    "        out = print(f\"The column {column.title()} has {no_true} duplicated rows.\\nThis constitutes {duplicates_percentage}% of the data set.\", '\\n')"
   ]
  },
  {
   "cell_type": "code",
   "execution_count": 9,
   "metadata": {},
   "outputs": [],
   "source": [
    "# helper function to check for descriptive stats\n",
    "\n",
    "def data_describe(data):\n",
    "    \"\"\"Simple function to check the descriptive values of the data\"\"\"\n",
    "    out = print(data.describe(), '\\n')\n",
    "    \n",
    "    return out"
   ]
  },
  {
   "cell_type": "code",
   "execution_count": 10,
   "metadata": {},
   "outputs": [],
   "source": [
    "# overall function for data understanding\n",
    "\n",
    "def explore(data):\n",
    "    \"\"\"Group of functions to explore data \"\"\"\n",
    "    out1 = data_shape(data)\n",
    "    out2 = data_info(data)\n",
    "    out3 = data_missing(data)\n",
    "    out4 = identify_duplicates(data)\n",
    "    out5 = unique_column_duplicates(data, 'id')\n",
    "    out6 = data_describe(data)\n",
    "    \n",
    "    return out1, out2, out3, out4, out5"
   ]
  },
  {
   "cell_type": "markdown",
   "metadata": {},
   "source": [
    "From below, data has:\n",
    "- 21597 houses sold\n",
    "- 21 house features : 6 string variables and 15 numeric variables. `date` column is encoded as string instead of datetime, while `sqft_basement` is enconded as string instead of float. These 2 will be corrected\n",
    "- Missing values which will be investigated and treated\n",
    "- No duplicates. However, the `id` column which should contain unique identifiers has 177 duplicated values. These will be checked\n",
    "- From the descriptive stats, there's also potential for some outliers which will need to be veried. "
   ]
  },
  {
   "cell_type": "markdown",
   "metadata": {},
   "source": [
    "#### Duplicated Id Column\n",
    "Id column duplicates to be dropped in the process below"
   ]
  },
  {
   "cell_type": "code",
   "execution_count": 11,
   "metadata": {},
   "outputs": [
    {
     "name": "stdout",
     "output_type": "stream",
     "text": [
      "The Data has no duplicates \n",
      "\n",
      "None\n",
      "The column Id has 177 duplicated rows.\n",
      "This constitutes 0.82% of the data set. \n",
      "\n",
      "None\n"
     ]
    }
   ],
   "source": [
    "print(identify_duplicates(data))\n",
    "print(unique_column_duplicates(data, 'id')) "
   ]
  },
  {
   "cell_type": "code",
   "execution_count": 12,
   "metadata": {},
   "outputs": [
    {
     "name": "stdout",
     "output_type": "stream",
     "text": [
      "The column Id has no duplicates \n",
      "\n"
     ]
    }
   ],
   "source": [
    "def drop_duplicates(df, column):\n",
    "    \"\"\"function to drop duplicated rows\"\"\"\n",
    "    \n",
    "    df.drop_duplicates(subset=column, keep='first', inplace=True)\n",
    "    confirmation = unique_column_duplicates(data, 'id')\n",
    "    return confirmation\n",
    "\n",
    "drop_duplicates(data, 'id') "
   ]
  },
  {
   "cell_type": "code",
   "execution_count": 13,
   "metadata": {},
   "outputs": [
    {
     "name": "stdout",
     "output_type": "stream",
     "text": [
      "<class 'pandas.core.frame.DataFrame'>\n",
      "RangeIndex: 21597 entries, 0 to 21596\n",
      "Data columns (total 21 columns):\n",
      " #   Column         Non-Null Count  Dtype  \n",
      "---  ------         --------------  -----  \n",
      " 0   id             21597 non-null  int64  \n",
      " 1   date           21597 non-null  object \n",
      " 2   price          21597 non-null  float64\n",
      " 3   bedrooms       21597 non-null  int64  \n",
      " 4   bathrooms      21597 non-null  float64\n",
      " 5   sqft_living    21597 non-null  int64  \n",
      " 6   sqft_lot       21597 non-null  int64  \n",
      " 7   floors         21597 non-null  float64\n",
      " 8   waterfront     19221 non-null  object \n",
      " 9   view           21534 non-null  object \n",
      " 10  condition      21597 non-null  object \n",
      " 11  grade          21597 non-null  object \n",
      " 12  sqft_above     21597 non-null  int64  \n",
      " 13  sqft_basement  21597 non-null  object \n",
      " 14  yr_built       21597 non-null  int64  \n",
      " 15  yr_renovated   17755 non-null  float64\n",
      " 16  zipcode        21597 non-null  int64  \n",
      " 17  lat            21597 non-null  float64\n",
      " 18  long           21597 non-null  float64\n",
      " 19  sqft_living15  21597 non-null  int64  \n",
      " 20  sqft_lot15     21597 non-null  int64  \n",
      "dtypes: float64(6), int64(9), object(6)\n",
      "memory usage: 3.5+ MB\n"
     ]
    }
   ],
   "source": [
    "df.info()"
   ]
  },
  {
   "cell_type": "markdown",
   "metadata": {},
   "source": [
    "Our data has 6 variables as objects i.e Date, waterfront,view, condition, grade,sqft_basement"
   ]
  },
  {
   "cell_type": "markdown",
   "metadata": {},
   "source": [
    "### Dealing with the Missing Values"
   ]
  },
  {
   "cell_type": "code",
   "execution_count": 14,
   "metadata": {},
   "outputs": [
    {
     "name": "stdout",
     "output_type": "stream",
     "text": [
      "id                0.00\n",
      "date              0.00\n",
      "price             0.00\n",
      "bedrooms          0.00\n",
      "bathrooms         0.00\n",
      "sqft_living       0.00\n",
      "sqft_lot          0.00\n",
      "floors            0.00\n",
      "waterfront       11.00\n",
      "view              0.29\n",
      "condition         0.00\n",
      "grade             0.00\n",
      "sqft_above        0.00\n",
      "sqft_basement     0.00\n",
      "yr_built          0.00\n",
      "yr_renovated     17.79\n",
      "zipcode           0.00\n",
      "lat               0.00\n",
      "long              0.00\n",
      "sqft_living15     0.00\n",
      "sqft_lot15        0.00\n",
      "dtype: float64\n"
     ]
    }
   ],
   "source": [
    "# Find the percentage of missing values in each column\n",
    "percantage_msng_values = df.isnull().sum()* 100 / len (df)\n",
    "\n",
    "print(percantage_msng_values.round(2))"
   ]
  },
  {
   "cell_type": "markdown",
   "metadata": {},
   "source": [
    "Our data frame has some missing values in waterfront, view and year renovated columns constituting to 11%, 0.29% and 17.79% respectively."
   ]
  },
  {
   "cell_type": "code",
   "execution_count": 15,
   "metadata": {},
   "outputs": [
    {
     "name": "stdout",
     "output_type": "stream",
     "text": [
      "[nan 'NO' 'YES']\n"
     ]
    }
   ],
   "source": [
    "# look for unique values in the \"waterfront\" column\n",
    "unique_values_wf = df['waterfront'].unique()\n",
    "\n",
    "print(unique_values_wf)"
   ]
  },
  {
   "cell_type": "code",
   "execution_count": 16,
   "metadata": {},
   "outputs": [
    {
     "name": "stdout",
     "output_type": "stream",
     "text": [
      "Total number of houses where 'waterfront' is 'YES': 146\n"
     ]
    }
   ],
   "source": [
    "# look for total number of houses where 'waterfront' is 'yes'\n",
    "total_waterfront_yes = len(df[df['waterfront'] == 'YES'])\n",
    "\n",
    "# Print the total number\n",
    "print(\"Total number of houses where 'waterfront' is 'YES':\", total_waterfront_yes)"
   ]
  },
  {
   "cell_type": "code",
   "execution_count": 17,
   "metadata": {},
   "outputs": [],
   "source": [
    "# Replace null values in 'waterfront' with 'NO'\n",
    "df['waterfront'].fillna('NO', inplace=True)"
   ]
  },
  {
   "cell_type": "markdown",
   "metadata": {},
   "source": [
    "The waterfront columns contain nan, No and Yes unique values. We decided to fill nan entries with No on assumption that these houses lacked a waterfront and hence entries made as nan"
   ]
  },
  {
   "cell_type": "code",
   "execution_count": 18,
   "metadata": {},
   "outputs": [
    {
     "name": "stdout",
     "output_type": "stream",
     "text": [
      "['NONE' nan 'GOOD' 'EXCELLENT' 'AVERAGE' 'FAIR']\n"
     ]
    }
   ],
   "source": [
    "# look unique values in the view column\n",
    "unique_values_view = df['view'].unique()\n",
    "\n",
    "print(unique_values_view)"
   ]
  },
  {
   "cell_type": "code",
   "execution_count": 19,
   "metadata": {},
   "outputs": [
    {
     "name": "stdout",
     "output_type": "stream",
     "text": [
      "Total number of houses with null values under the 'view' column: 63\n"
     ]
    }
   ],
   "source": [
    "# search for how many houses have null values under the 'view' column\n",
    "null_values_view = df['view'].isnull().sum()\n",
    "\n",
    "# Print the total number\n",
    "print(\"Total number of houses with null values under the 'view' column:\", null_values_view)"
   ]
  },
  {
   "cell_type": "code",
   "execution_count": 20,
   "metadata": {},
   "outputs": [
    {
     "name": "stdout",
     "output_type": "stream",
     "text": [
      "Total number of houses where 'view' is 'NONE': 19422\n"
     ]
    }
   ],
   "source": [
    "#find out how many houses with no view\n",
    "total_view_none = len(df[df['view'] == 'NONE'])\n",
    "\n",
    "# Print the total number\n",
    "print(\"Total number of houses where 'view' is 'NONE':\", total_view_none)"
   ]
  },
  {
   "cell_type": "code",
   "execution_count": 21,
   "metadata": {},
   "outputs": [],
   "source": [
    "# Replace NaN values in the 'view' column with 'NONE'\n",
    "df['view'].fillna('NONE', inplace=True)"
   ]
  },
  {
   "cell_type": "markdown",
   "metadata": {},
   "source": [
    "The view columns consist of various unique values such as 'NONE', 'GOOD', 'EXCELLENT', 'AVERAGE', and 'FAIR'. There are a total of 63 entries marked as 'nan'. After careful consideration, we opted to replace these 'nan' entries with 'NONE', under the assumption that these particular houses do not possess a view of notable quality."
   ]
  },
  {
   "cell_type": "code",
   "execution_count": 22,
   "metadata": {},
   "outputs": [
    {
     "name": "stdout",
     "output_type": "stream",
     "text": [
      "[   0. 1934. 1940. 1944. 1945. 1946. 1948. 1950. 1951. 1953. 1954. 1955.\n",
      " 1956. 1957. 1958. 1959. 1960. 1962. 1963. 1964. 1965. 1967. 1968. 1969.\n",
      " 1970. 1971. 1972. 1973. 1974. 1975. 1976. 1977. 1978. 1979. 1980. 1981.\n",
      " 1982. 1983. 1984. 1985. 1986. 1987. 1988. 1989. 1990. 1991. 1992. 1993.\n",
      " 1994. 1995. 1996. 1997. 1998. 1999. 2000. 2001. 2002. 2003. 2004. 2005.\n",
      " 2006. 2007. 2008. 2009. 2010. 2011. 2012. 2013. 2014. 2015.   nan]\n"
     ]
    }
   ],
   "source": [
    "# checking unique values in the the yr_renovated column\n",
    "unique_values_renovation = df['yr_renovated'].unique()\n",
    "unique_values_renovation.sort()\n",
    "\n",
    "print(unique_values_renovation) "
   ]
  },
  {
   "cell_type": "code",
   "execution_count": 23,
   "metadata": {},
   "outputs": [
    {
     "name": "stdout",
     "output_type": "stream",
     "text": [
      "\n",
      "Number of houses with 'yr_renovated' greater than 0: 744\n"
     ]
    }
   ],
   "source": [
    "# Checking the number of houses with 'yr_renovated' greater than 0 \n",
    "houses_with_renovations = df[df['yr_renovated'] > 0]\n",
    "\n",
    "# Print the number of houses with 'yr_renovated' greater than 0\n",
    "print(\"\\nNumber of houses with 'yr_renovated' greater than 0:\", len(houses_with_renovations)) "
   ]
  },
  {
   "cell_type": "code",
   "execution_count": 24,
   "metadata": {},
   "outputs": [],
   "source": [
    "# Replace null values in 'yr_renovated' with 0\n",
    "df['yr_renovated'].fillna(0, inplace=True) "
   ]
  },
  {
   "cell_type": "markdown",
   "metadata": {},
   "source": [
    "The yr_renovated column contains years ranging from 1934 to 2015, but it also includes entries with the values 0 and 'nan'. We inferred that these entries represent houses that have never undergone renovation. Subsequently, we replaced the 'nan' entries with 0 to reflect this assumption."
   ]
  },
  {
   "cell_type": "code",
   "execution_count": 25,
   "metadata": {},
   "outputs": [
    {
     "name": "stdout",
     "output_type": "stream",
     "text": [
      "['Average' 'Very Good' 'Good' 'Poor' 'Fair']\n"
     ]
    }
   ],
   "source": [
    "# Checking the condition column\n",
    "unique_values_condition = df['condition'].unique()\n",
    "\n",
    "print(unique_values_condition) "
   ]
  },
  {
   "cell_type": "code",
   "execution_count": 26,
   "metadata": {},
   "outputs": [
    {
     "name": "stdout",
     "output_type": "stream",
     "text": [
      "['10 Very Good' '11 Excellent' '12 Luxury' '13 Mansion' '3 Poor' '4 Low'\n",
      " '5 Fair' '6 Low Average' '7 Average' '8 Good' '9 Better']\n"
     ]
    }
   ],
   "source": [
    "# Checking the grade column\n",
    "unique_values_grade = df['grade'].unique()\n",
    "\n",
    "# Sorting the unique values in ascending order\n",
    "unique_values_grade.sort()\n",
    "\n",
    "print(unique_values_grade) "
   ]
  },
  {
   "cell_type": "code",
   "execution_count": 27,
   "metadata": {},
   "outputs": [
    {
     "name": "stdout",
     "output_type": "stream",
     "text": [
      "id               0.0\n",
      "date             0.0\n",
      "price            0.0\n",
      "bedrooms         0.0\n",
      "bathrooms        0.0\n",
      "sqft_living      0.0\n",
      "sqft_lot         0.0\n",
      "floors           0.0\n",
      "waterfront       0.0\n",
      "view             0.0\n",
      "condition        0.0\n",
      "grade            0.0\n",
      "sqft_above       0.0\n",
      "sqft_basement    0.0\n",
      "yr_built         0.0\n",
      "yr_renovated     0.0\n",
      "zipcode          0.0\n",
      "lat              0.0\n",
      "long             0.0\n",
      "sqft_living15    0.0\n",
      "sqft_lot15       0.0\n",
      "dtype: float64\n"
     ]
    }
   ],
   "source": [
    "missing_values_percent = df.isnull().sum() * 100 / len(df)\n",
    "\n",
    "print(missing_values_percent) "
   ]
  },
  {
   "cell_type": "markdown",
   "metadata": {},
   "source": [
    "Our data has been thoroughly cleaned, and there are no longer any missing values present."
   ]
  },
  {
   "cell_type": "code",
   "execution_count": 28,
   "metadata": {},
   "outputs": [
    {
     "data": {
      "text/plain": [
       "0       0.0\n",
       "1     400.0\n",
       "2       0.0\n",
       "3     910.0\n",
       "4       0.0\n",
       "5    1530.0\n",
       "6         ?\n",
       "7       0.0\n",
       "Name: sqft_basement, dtype: object"
      ]
     },
     "execution_count": 28,
     "metadata": {},
     "output_type": "execute_result"
    }
   ],
   "source": [
    "# Check the 'sqft_basement' column\n",
    "df['sqft_basement'].head(8) "
   ]
  },
  {
   "cell_type": "code",
   "execution_count": 29,
   "metadata": {},
   "outputs": [
    {
     "name": "stdout",
     "output_type": "stream",
     "text": [
      "Number of '?' in 'sqft_basement' column: 454\n",
      "Percentage of '?' in 'sqft_basement' column: 2.1\n"
     ]
    }
   ],
   "source": [
    "# check number of '?' in 'sqft_basement' column\n",
    "count_question_marks = df['sqft_basement'].str.count('\\?').sum()\n",
    "\n",
    "# Calculate the percentage of '?' in 'sqft_basement' column\n",
    "percentage_question_marks = (count_question_marks / len(df['sqft_basement'])) * 100\n",
    "\n",
    "print(\"Number of '?' in 'sqft_basement' column:\", count_question_marks)\n",
    "print(\"Percentage of '?' in 'sqft_basement' column:\", percentage_question_marks.round(2))"
   ]
  },
  {
   "cell_type": "code",
   "execution_count": 30,
   "metadata": {},
   "outputs": [],
   "source": [
    "# Drop rows with '?' in the 'sqft_basement' column\n",
    "df = df[df['sqft_basement'] != '?']\n",
    "\n",
    "# Convert the 'sqft_basement' column to float\n",
    "df['sqft_basement'] = df['sqft_basement'].astype(float)"
   ]
  },
  {
   "cell_type": "code",
   "execution_count": 31,
   "metadata": {},
   "outputs": [],
   "source": [
    "# Remove duplicates in 'df' in place\n",
    "df.drop_duplicates(inplace=True) "
   ]
  },
  {
   "cell_type": "markdown",
   "metadata": {},
   "source": [
    "### Data Conversion\n",
    "Conversion of various expected features to the correct data types"
   ]
  },
  {
   "cell_type": "code",
   "execution_count": 32,
   "metadata": {},
   "outputs": [],
   "source": [
    "# Convert the 'year_renovated' column to integers\n",
    "df['yr_renovated'] = df['yr_renovated'].astype(int) "
   ]
  },
  {
   "cell_type": "code",
   "execution_count": 33,
   "metadata": {},
   "outputs": [],
   "source": [
    "# Convert the 'date' column to datetime format\n",
    "df['date'] = pd.to_datetime(df['date'], format='%m/%d/%Y') "
   ]
  },
  {
   "cell_type": "code",
   "execution_count": 34,
   "metadata": {},
   "outputs": [],
   "source": [
    "#9. Convert View, condition and grade into representative numbers for easier Exploratory analysis.\n",
    "df['view'] = df['view'].map({'NONE': 1,'FAIR': 2,'AVERAGE': 3,'GOOD': 4,'EXCELLENT': 5}).astype(float)\n",
    "df['condition'] = df['condition'].map({'Poor': 1,'Fair': 2,'Average': 3,'Good': 4,'Very Good': 5}).astype(float)\n",
    "df['grade'] = df['grade'].map({'3 Poor': 1,'4 Low': 2,'5 Fair': 3,'6 Low Average': 4,'7 Average': 5,'8 Good': 6,'9 Better': 7,'10 Very Good': 8,'11 Excellent': 9,'12 Luxury': 10,'13 Mansion': 11}).astype(float) "
   ]
  },
  {
   "cell_type": "code",
   "execution_count": 35,
   "metadata": {},
   "outputs": [
    {
     "name": "stdout",
     "output_type": "stream",
     "text": [
      "<class 'pandas.core.frame.DataFrame'>\n",
      "Int64Index: 21143 entries, 0 to 21596\n",
      "Data columns (total 21 columns):\n",
      " #   Column         Non-Null Count  Dtype         \n",
      "---  ------         --------------  -----         \n",
      " 0   id             21143 non-null  int64         \n",
      " 1   date           21143 non-null  datetime64[ns]\n",
      " 2   price          21143 non-null  float64       \n",
      " 3   bedrooms       21143 non-null  int64         \n",
      " 4   bathrooms      21143 non-null  float64       \n",
      " 5   sqft_living    21143 non-null  int64         \n",
      " 6   sqft_lot       21143 non-null  int64         \n",
      " 7   floors         21143 non-null  float64       \n",
      " 8   waterfront     21143 non-null  object        \n",
      " 9   view           21143 non-null  float64       \n",
      " 10  condition      21143 non-null  float64       \n",
      " 11  grade          21143 non-null  float64       \n",
      " 12  sqft_above     21143 non-null  int64         \n",
      " 13  sqft_basement  21143 non-null  float64       \n",
      " 14  yr_built       21143 non-null  int64         \n",
      " 15  yr_renovated   21143 non-null  int32         \n",
      " 16  zipcode        21143 non-null  int64         \n",
      " 17  lat            21143 non-null  float64       \n",
      " 18  long           21143 non-null  float64       \n",
      " 19  sqft_living15  21143 non-null  int64         \n",
      " 20  sqft_lot15     21143 non-null  int64         \n",
      "dtypes: datetime64[ns](1), float64(9), int32(1), int64(9), object(1)\n",
      "memory usage: 3.5+ MB\n"
     ]
    }
   ],
   "source": [
    "df.info()"
   ]
  },
  {
   "cell_type": "code",
   "execution_count": 36,
   "metadata": {},
   "outputs": [
    {
     "data": {
      "text/html": [
       "<div>\n",
       "<style scoped>\n",
       "    .dataframe tbody tr th:only-of-type {\n",
       "        vertical-align: middle;\n",
       "    }\n",
       "\n",
       "    .dataframe tbody tr th {\n",
       "        vertical-align: top;\n",
       "    }\n",
       "\n",
       "    .dataframe thead th {\n",
       "        text-align: right;\n",
       "    }\n",
       "</style>\n",
       "<table border=\"1\" class=\"dataframe\">\n",
       "  <thead>\n",
       "    <tr style=\"text-align: right;\">\n",
       "      <th></th>\n",
       "      <th>id</th>\n",
       "      <th>date</th>\n",
       "      <th>price</th>\n",
       "      <th>bedrooms</th>\n",
       "      <th>bathrooms</th>\n",
       "      <th>sqft_living</th>\n",
       "      <th>sqft_lot</th>\n",
       "      <th>floors</th>\n",
       "      <th>waterfront</th>\n",
       "      <th>view</th>\n",
       "      <th>...</th>\n",
       "      <th>grade</th>\n",
       "      <th>sqft_above</th>\n",
       "      <th>sqft_basement</th>\n",
       "      <th>yr_built</th>\n",
       "      <th>yr_renovated</th>\n",
       "      <th>zipcode</th>\n",
       "      <th>lat</th>\n",
       "      <th>long</th>\n",
       "      <th>sqft_living15</th>\n",
       "      <th>sqft_lot15</th>\n",
       "    </tr>\n",
       "  </thead>\n",
       "  <tbody>\n",
       "    <tr>\n",
       "      <th>0</th>\n",
       "      <td>7129300520</td>\n",
       "      <td>2014-10-13</td>\n",
       "      <td>221900.0</td>\n",
       "      <td>3</td>\n",
       "      <td>1.00</td>\n",
       "      <td>1180</td>\n",
       "      <td>5650</td>\n",
       "      <td>1.0</td>\n",
       "      <td>NO</td>\n",
       "      <td>1.0</td>\n",
       "      <td>...</td>\n",
       "      <td>5.0</td>\n",
       "      <td>1180</td>\n",
       "      <td>0.0</td>\n",
       "      <td>1955</td>\n",
       "      <td>0</td>\n",
       "      <td>98178</td>\n",
       "      <td>47.5112</td>\n",
       "      <td>-122.257</td>\n",
       "      <td>1340</td>\n",
       "      <td>5650</td>\n",
       "    </tr>\n",
       "    <tr>\n",
       "      <th>1</th>\n",
       "      <td>6414100192</td>\n",
       "      <td>2014-12-09</td>\n",
       "      <td>538000.0</td>\n",
       "      <td>3</td>\n",
       "      <td>2.25</td>\n",
       "      <td>2570</td>\n",
       "      <td>7242</td>\n",
       "      <td>2.0</td>\n",
       "      <td>NO</td>\n",
       "      <td>1.0</td>\n",
       "      <td>...</td>\n",
       "      <td>5.0</td>\n",
       "      <td>2170</td>\n",
       "      <td>400.0</td>\n",
       "      <td>1951</td>\n",
       "      <td>1991</td>\n",
       "      <td>98125</td>\n",
       "      <td>47.7210</td>\n",
       "      <td>-122.319</td>\n",
       "      <td>1690</td>\n",
       "      <td>7639</td>\n",
       "    </tr>\n",
       "    <tr>\n",
       "      <th>2</th>\n",
       "      <td>5631500400</td>\n",
       "      <td>2015-02-25</td>\n",
       "      <td>180000.0</td>\n",
       "      <td>2</td>\n",
       "      <td>1.00</td>\n",
       "      <td>770</td>\n",
       "      <td>10000</td>\n",
       "      <td>1.0</td>\n",
       "      <td>NO</td>\n",
       "      <td>1.0</td>\n",
       "      <td>...</td>\n",
       "      <td>4.0</td>\n",
       "      <td>770</td>\n",
       "      <td>0.0</td>\n",
       "      <td>1933</td>\n",
       "      <td>0</td>\n",
       "      <td>98028</td>\n",
       "      <td>47.7379</td>\n",
       "      <td>-122.233</td>\n",
       "      <td>2720</td>\n",
       "      <td>8062</td>\n",
       "    </tr>\n",
       "    <tr>\n",
       "      <th>3</th>\n",
       "      <td>2487200875</td>\n",
       "      <td>2014-12-09</td>\n",
       "      <td>604000.0</td>\n",
       "      <td>4</td>\n",
       "      <td>3.00</td>\n",
       "      <td>1960</td>\n",
       "      <td>5000</td>\n",
       "      <td>1.0</td>\n",
       "      <td>NO</td>\n",
       "      <td>1.0</td>\n",
       "      <td>...</td>\n",
       "      <td>5.0</td>\n",
       "      <td>1050</td>\n",
       "      <td>910.0</td>\n",
       "      <td>1965</td>\n",
       "      <td>0</td>\n",
       "      <td>98136</td>\n",
       "      <td>47.5208</td>\n",
       "      <td>-122.393</td>\n",
       "      <td>1360</td>\n",
       "      <td>5000</td>\n",
       "    </tr>\n",
       "    <tr>\n",
       "      <th>4</th>\n",
       "      <td>1954400510</td>\n",
       "      <td>2015-02-18</td>\n",
       "      <td>510000.0</td>\n",
       "      <td>3</td>\n",
       "      <td>2.00</td>\n",
       "      <td>1680</td>\n",
       "      <td>8080</td>\n",
       "      <td>1.0</td>\n",
       "      <td>NO</td>\n",
       "      <td>1.0</td>\n",
       "      <td>...</td>\n",
       "      <td>6.0</td>\n",
       "      <td>1680</td>\n",
       "      <td>0.0</td>\n",
       "      <td>1987</td>\n",
       "      <td>0</td>\n",
       "      <td>98074</td>\n",
       "      <td>47.6168</td>\n",
       "      <td>-122.045</td>\n",
       "      <td>1800</td>\n",
       "      <td>7503</td>\n",
       "    </tr>\n",
       "  </tbody>\n",
       "</table>\n",
       "<p>5 rows × 21 columns</p>\n",
       "</div>"
      ],
      "text/plain": [
       "           id       date     price  bedrooms  bathrooms  sqft_living  \\\n",
       "0  7129300520 2014-10-13  221900.0         3       1.00         1180   \n",
       "1  6414100192 2014-12-09  538000.0         3       2.25         2570   \n",
       "2  5631500400 2015-02-25  180000.0         2       1.00          770   \n",
       "3  2487200875 2014-12-09  604000.0         4       3.00         1960   \n",
       "4  1954400510 2015-02-18  510000.0         3       2.00         1680   \n",
       "\n",
       "   sqft_lot  floors waterfront  view  ...  grade  sqft_above  sqft_basement  \\\n",
       "0      5650     1.0         NO   1.0  ...    5.0        1180            0.0   \n",
       "1      7242     2.0         NO   1.0  ...    5.0        2170          400.0   \n",
       "2     10000     1.0         NO   1.0  ...    4.0         770            0.0   \n",
       "3      5000     1.0         NO   1.0  ...    5.0        1050          910.0   \n",
       "4      8080     1.0         NO   1.0  ...    6.0        1680            0.0   \n",
       "\n",
       "   yr_built  yr_renovated  zipcode      lat     long  sqft_living15  \\\n",
       "0      1955             0    98178  47.5112 -122.257           1340   \n",
       "1      1951          1991    98125  47.7210 -122.319           1690   \n",
       "2      1933             0    98028  47.7379 -122.233           2720   \n",
       "3      1965             0    98136  47.5208 -122.393           1360   \n",
       "4      1987             0    98074  47.6168 -122.045           1800   \n",
       "\n",
       "   sqft_lot15  \n",
       "0        5650  \n",
       "1        7639  \n",
       "2        8062  \n",
       "3        5000  \n",
       "4        7503  \n",
       "\n",
       "[5 rows x 21 columns]"
      ]
     },
     "execution_count": 36,
     "metadata": {},
     "output_type": "execute_result"
    }
   ],
   "source": [
    "df.head()"
   ]
  },
  {
   "cell_type": "markdown",
   "metadata": {},
   "source": [
    "# Exploratory Data Analysis"
   ]
  },
  {
   "cell_type": "markdown",
   "metadata": {},
   "source": [
    "### Raw Price Distribution"
   ]
  },
  {
   "cell_type": "markdown",
   "metadata": {},
   "source": [
    "### Raw Price Distribution\n"
   ]
  },
  {
   "cell_type": "code",
   "execution_count": 37,
   "metadata": {},
   "outputs": [
    {
     "data": {
      "image/png": "[encoded data removed]",
      "text/plain": [
       "<Figure size 576x360 with 1 Axes>"
      ]
     },
     "metadata": {},
     "output_type": "display_data"
    }
   ],
   "source": [
    "# View price distribution\n",
    "plt.figure(figsize=(8,5))\n",
    "dist=sns.distplot(df[\"price\"])\n",
    "dist.set_title(\"Price distribution\")\n",
    "plt.xlabel('Price in USD')\n",
    "plt.title('Distribution of Price')\n",
    "plt.show()"
   ]
  },
  {
   "cell_type": "markdown",
   "metadata": {},
   "source": [
    "The distribution is positively skewed, meaning that the mean is much greater than the median which should not be the case for a normal distribution.\n",
    "We have to normalize the distribution."
   ]
  },
  {
   "cell_type": "markdown",
   "metadata": {},
   "source": [
    "### Normalized Price Distribution"
   ]
  },
  {
   "cell_type": "code",
   "execution_count": 38,
   "metadata": {},
   "outputs": [
    {
     "data": {
      "image/png": "[encoded data removed]",
      "text/plain": [
       "<Figure size 792x576 with 1 Axes>"
      ]
     },
     "metadata": {},
     "output_type": "display_data"
    }
   ],
   "source": [
    "#Normalizing Price Distribution\n",
    "fig, ax = plt.subplots(figsize=(11, 8))\n",
    "\n",
    "sns.distplot(np.log(df['price']), bins = 100) \n",
    "\n",
    "ax.set_xlabel(\"Normalized Price\")\n",
    "ax.set_ylabel(\"Number of houses\")\n",
    "ax.set_title(\"Normalized house prices distribution\")\n",
    "plt.show()"
   ]
  },
  {
   "cell_type": "markdown",
   "metadata": {},
   "source": [
    "The distribution above now assumes an inverted bell shape. We have normalized the distribution and the mean and median now fall in a central range of the data points."
   ]
  },
  {
   "cell_type": "markdown",
   "metadata": {},
   "source": [
    "## `How do different features influence house pricing?`"
   ]
  },
  {
   "cell_type": "markdown",
   "metadata": {},
   "source": [
    "### *Landscape Features*"
   ]
  },
  {
   "cell_type": "markdown",
   "metadata": {},
   "source": [
    "The landscape feature is the waterfront.\n",
    "#### Waterfront"
   ]
  },
  {
   "cell_type": "code",
   "execution_count": 39,
   "metadata": {},
   "outputs": [
    {
     "data": {
      "text/plain": [
       "146"
      ]
     },
     "execution_count": 39,
     "metadata": {},
     "output_type": "execute_result"
    }
   ],
   "source": [
    "total_waterfront_yes"
   ]
  },
  {
   "cell_type": "markdown",
   "metadata": {},
   "source": [
    "*Most properties do not have a waterfront. Only 146 do.*"
   ]
  },
  {
   "cell_type": "code",
   "execution_count": 40,
   "metadata": {},
   "outputs": [
    {
     "data": {
      "image/png": "[encoded data removed]",
      "text/plain": [
       "<Figure size 432x288 with 1 Axes>"
      ]
     },
     "metadata": {},
     "output_type": "display_data"
    }
   ],
   "source": [
    "# Plot boxplot of waterfront feature\n",
    "sns.boxplot(x = df['waterfront'], y = df['price'])\n",
    "plt.title(\"Boxplot of waterfront feature vs. price\")\n",
    "plt.ylabel(\"price in USD\")\n",
    "plt.xlabel(None)\n",
    "plt.xticks(np.arange(2), ('No view of waterfront', 'Waterfront view'))\n",
    "plt.show()"
   ]
  },
  {
   "cell_type": "code",
   "execution_count": 41,
   "metadata": {},
   "outputs": [
    {
     "name": "stdout",
     "output_type": "stream",
     "text": [
      "The mean  price for a house with a waterfront  is  1731020.07 USD\n",
      "The mean  price for a house without a waterfront is  532461.0 USD\n",
      "Percentage of houses with waterfront is: 0.6716170836683536\n"
     ]
    }
   ],
   "source": [
    "waterfront_mean = df[df['waterfront'] == 'YES']['price'].mean()\n",
    "no_waterfront_mean = df[df['waterfront'] == 'NO']['price'].mean()\n",
    "print(f\"The mean  price for a house with a waterfront  is  {round(waterfront_mean,2)} USD\")\n",
    "print(f\"The mean  price for a house without a waterfront is  {round(no_waterfront_mean,2)} USD\")\n",
    "print(f\"Percentage of houses with waterfront is: {len(df[df['waterfront'] == 'YES'])/len(df)*100}\")"
   ]
  },
  {
   "cell_type": "code",
   "execution_count": 42,
   "metadata": {},
   "outputs": [
    {
     "name": "stdout",
     "output_type": "stream",
     "text": [
      "Waterfront : No Waterfront =  3.25 : 1\n"
     ]
    }
   ],
   "source": [
    "# Mean Price Ratio of Houses with Waterfront : Houses without Waterfront\n",
    "mpr_waterfront = waterfront_mean / no_waterfront_mean\n",
    "print(f'Waterfront : No Waterfront = ',round(mpr_waterfront, 2),': 1')"
   ]
  },
  {
   "cell_type": "markdown",
   "metadata": {},
   "source": [
    "#### Waterfront Feature Conclusion\n",
    "Houses with waterfronts are significantly more pricy than those without. Those with waterfront are more than 3 times the price of those without waterfronts. However, only 0.67% of the properties have the waterfront feature."
   ]
  },
  {
   "cell_type": "markdown",
   "metadata": {},
   "source": [
    "### *House Features*"
   ]
  },
  {
   "cell_type": "code",
   "execution_count": 43,
   "metadata": {},
   "outputs": [
    {
     "data": {
      "text/plain": [
       "Index(['id', 'date', 'price', 'bedrooms', 'bathrooms', 'sqft_living',\n",
       "       'sqft_lot', 'floors', 'waterfront', 'view', 'condition', 'grade',\n",
       "       'sqft_above', 'sqft_basement', 'yr_built', 'yr_renovated', 'zipcode',\n",
       "       'lat', 'long', 'sqft_living15', 'sqft_lot15'],\n",
       "      dtype='object')"
      ]
     },
     "execution_count": 43,
     "metadata": {},
     "output_type": "execute_result"
    }
   ],
   "source": [
    "#Isolation of house features from the dataframe\n",
    "df.columns"
   ]
  },
  {
   "cell_type": "code",
   "execution_count": 44,
   "metadata": {},
   "outputs": [
    {
     "data": {
      "image/png": "[encoded data removed]",
      "text/plain": [
       "<Figure size 432x288 with 1 Axes>"
      ]
     },
     "metadata": {},
     "output_type": "display_data"
    },
    {
     "data": {
      "image/png": "[encoded data removed]",
      "text/plain": [
       "<Figure size 432x288 with 1 Axes>"
      ]
     },
     "metadata": {},
     "output_type": "display_data"
    },
    {
     "data": {
      "image/png": "[encoded data removed]",
      "text/plain": [
       "<Figure size 432x288 with 1 Axes>"
      ]
     },
     "metadata": {},
     "output_type": "display_data"
    },
    {
     "data": {
      "image/png": "[encoded data removed]",
      "text/plain": [
       "<Figure size 432x288 with 1 Axes>"
      ]
     },
     "metadata": {},
     "output_type": "display_data"
    },
    {
     "data": {
      "image/png": "[encoded data removed]",
      "text/plain": [
       "<Figure size 432x288 with 1 Axes>"
      ]
     },
     "metadata": {},
     "output_type": "display_data"
    },
    {
     "data": {
      "image/png": "[encoded data removed]",
      "text/plain": [
       "<Figure size 432x288 with 1 Axes>"
      ]
     },
     "metadata": {},
     "output_type": "display_data"
    }
   ],
   "source": [
    "# categorical variables\n",
    "features = ['bedrooms', 'bathrooms', 'floors', 'view', 'grade', 'condition']\n",
    "\n",
    "#We are not using 'yr_built' and 'yr_renovated' due to many outliers and similar results across their distribution\n",
    "\n",
    "# plot boxplots\n",
    "for feature in features:\n",
    "    sns.boxplot(x = df[feature], y = df['price'], whis=1.0, width=0.75, linewidth=0.9, saturation=1.0)\n",
    "    plt.title(f\"Boxplot of {feature} vs. price\")\n",
    "    plt.ylabel(\"price in USD\")\n",
    "    plt.xlabel(f\"{feature}\")\n",
    "    plt.show()"
   ]
  },
  {
   "cell_type": "markdown",
   "metadata": {},
   "source": [
    "### Bedrooms vs Price\n",
    "Price increases with increase in number of bedrooms. 8 bedroom houses are the most preferred.\n",
    "\n",
    "### Bathrooms vs Price\n",
    "Price generally increases with increase in number of bathrooms but it is not the case in all instances.\n",
    "\n",
    "### Floors vs Price\n",
    "Price increases with increase in number of floors upto 2.5 floors. After 2.5 floors, prices begin to drop. Most people settle for 2.5 floors.\n",
    "\n",
    "### View vs Price\n",
    "Price increases with increase in quality of view with 5(Excellent) being the most expensive and most purchased.\n",
    "\n",
    "### Grade vs Price\n",
    "Price increases with increase in grade. The highest grade(11) is the most expensive and most purchased.\n",
    "\n",
    "### Condition vs Price\n",
    "Trend cannot be accurately determined as houses in Poor condition are more pricy than houses in Very Good condition.\n"
   ]
  },
  {
   "cell_type": "markdown",
   "metadata": {},
   "source": []
  },
  {
   "cell_type": "markdown",
   "metadata": {},
   "source": [
    "#### Heatmap"
   ]
  },
  {
   "cell_type": "code",
   "execution_count": 45,
   "metadata": {},
   "outputs": [
    {
     "data": {
      "image/png": "[encoded data removed]",
      "text/plain": [
       "<Figure size 720x432 with 2 Axes>"
      ]
     },
     "metadata": {},
     "output_type": "display_data"
    }
   ],
   "source": [
    "plt.figure(figsize=(10, 6))\n",
    "sns.heatmap(df[['price', 'bedrooms', 'bathrooms', 'sqft_living', 'sqft_lot']].corr(), annot=True, cmap='coolwarm')\n",
    "plt.title('Correlation Heatmap')\n",
    "plt.show()"
   ]
  },
  {
   "cell_type": "markdown",
   "metadata": {},
   "source": [
    "The correlation heatmap depicting the relationships between price and various features like bedrooms, bathrooms, sqft_living, and sqft_lot holds significant importance in both linear and multilinear regression analyses. It serves to highlight influential predictors by showcasing their connections with the target variable (price). This aids in prioritizing predictors within linear models and identifying multicollinearity within multilinear models, thereby ensuring the stability and comprehensibility of the models. In essence, the heatmap serves as a guide for feature selection and model interpretation in regression analysis."
   ]
  },
  {
   "cell_type": "markdown",
   "metadata": {},
   "source": [
    "#### Bar Graph"
   ]
  },
  {
   "cell_type": "code",
   "execution_count": 46,
   "metadata": {},
   "outputs": [
    {
     "data": {
      "image/png": "[encoded data removed]",
      "text/plain": [
       "<Figure size 720x432 with 1 Axes>"
      ]
     },
     "metadata": {},
     "output_type": "display_data"
    }
   ],
   "source": [
    "plt.figure(figsize=(10, 6))\n",
    "sns.barplot(x='condition', y='price', data=df)\n",
    "plt.title('Price Distribution by Condition')\n",
    "plt.xlabel('Condition')\n",
    "plt.ylabel('Price')\n",
    "plt.show()"
   ]
  },
  {
   "cell_type": "markdown",
   "metadata": {},
   "source": [
    "The bar plot of price by condition is essential for developing regression models. It identifies influential condition categories for predictor selection and aids in understanding price variations. This visualization guides preprocessing of categorical variables and validates predictor-target relationships. Overall, it informs feature selection, interpretation, and validation in regression modeling."
   ]
  },
  {
   "cell_type": "markdown",
   "metadata": {},
   "source": [
    "#### Scatter Plot"
   ]
  },
  {
   "cell_type": "code",
   "execution_count": 47,
   "metadata": {},
   "outputs": [
    {
     "data": {
      "image/png": "[encoded data removed]",
      "text/plain": [
       "<Figure size 864x432 with 2 Axes>"
      ]
     },
     "metadata": {},
     "output_type": "display_data"
    }
   ],
   "source": [
    "plt.figure(figsize=(12, 6))\n",
    "plt.subplot(1, 2, 1)\n",
    "sns.scatterplot(x='sqft_living', y='price', data=df)\n",
    "plt.title('Price vs Sqft Living')\n",
    "plt.subplot(1, 2, 2)\n",
    "sns.scatterplot(x='sqft_lot', y='price', data=df)\n",
    "plt.title('Price vs Sqft Lot')\n",
    "plt.show()"
   ]
  },
  {
   "cell_type": "markdown",
   "metadata": {},
   "source": [
    "The scatter plots of price against square footage of living space (`sqft_living`) and lot size (`sqft_lot`) provide insights for linear and multilinear regression models. They show how price relates to these predictors, helping assess linearity and identify outliers. Clear trends in these plots guide decisions on model complexity and feature engineering, essential for accurate regression analysis."
   ]
  },
  {
   "cell_type": "markdown",
   "metadata": {},
   "source": [
    "## MODELLING"
   ]
  },
  {
   "cell_type": "markdown",
   "metadata": {},
   "source": [
    "#### Linear Regression"
   ]
  },
  {
   "cell_type": "code",
   "execution_count": 48,
   "metadata": {},
   "outputs": [
    {
     "name": "stdout",
     "output_type": "stream",
     "text": [
      "Baseline Model Performance:\n",
      "Train RMSE: 261631.4910742736\n",
      "Test RMSE: 263524.60505394044\n",
      "Train MSE: 68451037121.74771\n",
      "Test MSE: 69445217468.8353\n",
      "Train R-squared: 0.49807283088908505\n",
      "Test R-squared: 0.4733338519535445\n"
     ]
    }
   ],
   "source": [
    "from sklearn.model_selection import train_test_split\n",
    "from sklearn.linear_model import LinearRegression\n",
    "from sklearn.metrics import mean_squared_error\n",
    "from sklearn.metrics import r2_score\n",
    "\n",
    "# Defining features (X) and target variable (y)\n",
    "X = df[['sqft_living']]\n",
    "y = df['price']\n",
    "\n",
    "# Spliting the dataset into training and testing sets\n",
    "X_train, X_test, y_train, y_test = train_test_split(X, y, test_size=0.2, random_state=42)\n",
    "\n",
    "# Build baseline linear regression model\n",
    "baseline_model = LinearRegression()\n",
    "baseline_model.fit(X_train, y_train)\n",
    "\n",
    "# Predictions\n",
    "baseline_train_pred = baseline_model.predict(X_train)\n",
    "baseline_test_pred = baseline_model.predict(X_test)\n",
    "\n",
    "# Calculate MSE\n",
    "baseline_train_mse = mean_squared_error(y_train, baseline_train_pred)\n",
    "baseline_test_mse = mean_squared_error(y_test, baseline_test_pred)\n",
    "\n",
    "# Calculate RMSE\n",
    "baseline_train_rmse = mean_squared_error(y_train, baseline_train_pred, squared=False)\n",
    "baseline_test_rmse = mean_squared_error(y_test, baseline_test_pred, squared=False)\n",
    "\n",
    "# Calculate R-squared\n",
    "baseline_train_r2 = r2_score(y_train, baseline_train_pred)\n",
    "baseline_test_r2 = r2_score(y_test, baseline_test_pred)\n",
    "\n",
    "print(\"Baseline Model Performance:\")\n",
    "print(\"Train RMSE:\", baseline_train_rmse)\n",
    "print(\"Test RMSE:\", baseline_test_rmse)\n",
    "print(\"Train MSE:\", baseline_train_mse)\n",
    "print(\"Test MSE:\", baseline_test_mse)\n",
    "print(\"Train R-squared:\", baseline_train_r2)\n",
    "print(\"Test R-squared:\", baseline_test_r2)\n"
   ]
  },
  {
   "cell_type": "markdown",
   "metadata": {},
   "source": [
    "The baseline linear regression model exhibits moderate performance in predicting house prices based solely on square footage of living area. With a training RMSE of approximately $261,631.49 and a test RMSE of approximately $263,524.61, the model's predictions are reasonably close to the actual prices, indicating generalizability to unseen data. However, the model's explanatory power is limited, as evidenced by the training and test R-squared values of approximately 0.498 and 0.473, respectively. Further refinement and feature engineering may be necessary to improve the model's accuracy and capture more nuances in house price prediction."
   ]
  },
  {
   "cell_type": "code",
   "execution_count": 49,
   "metadata": {},
   "outputs": [
    {
     "name": "stdout",
     "output_type": "stream",
     "text": [
      "                            OLS Regression Results                            \n",
      "==============================================================================\n",
      "Dep. Variable:                  price   R-squared:                       0.498\n",
      "Model:                            OLS   Adj. R-squared:                  0.498\n",
      "Method:                 Least Squares   F-statistic:                 1.678e+04\n",
      "Date:                Tue, 30 Apr 2024   Prob (F-statistic):               0.00\n",
      "Time:                        21:03:27   Log-Likelihood:            -2.3500e+05\n",
      "No. Observations:               16914   AIC:                         4.700e+05\n",
      "Df Residuals:                   16912   BIC:                         4.700e+05\n",
      "Df Model:                           1                                         \n",
      "Covariance Type:            nonrobust                                         \n",
      "===============================================================================\n",
      "                  coef    std err          t      P>|t|      [0.025      0.975]\n",
      "-------------------------------------------------------------------------------\n",
      "const        -4.66e+04   4959.944     -9.395      0.000   -5.63e+04   -3.69e+04\n",
      "sqft_living   282.3650      2.180    129.546      0.000     278.093     286.637\n",
      "==============================================================================\n",
      "Omnibus:                    11454.600   Durbin-Watson:                   2.022\n",
      "Prob(Omnibus):                  0.000   Jarque-Bera (JB):           401978.016\n",
      "Skew:                           2.781   Prob(JB):                         0.00\n",
      "Kurtosis:                      26.226   Cond. No.                     5.61e+03\n",
      "==============================================================================\n",
      "\n",
      "Notes:\n",
      "[1] Standard Errors assume that the covariance matrix of the errors is correctly specified.\n",
      "[2] The condition number is large, 5.61e+03. This might indicate that there are\n",
      "strong multicollinearity or other numerical problems.\n"
     ]
    }
   ],
   "source": [
    "# Add a constant term to the predictor variable for the intercept\n",
    "X_train_with_const = sm.add_constant(X_train)\n",
    "\n",
    "# Fit the linear regression model\n",
    "model = sm.OLS(y_train, X_train_with_const)\n",
    "results = model.fit()\n",
    "\n",
    "# Display the summary table of regression results\n",
    "print(results.summary())"
   ]
  },
  {
   "cell_type": "markdown",
   "metadata": {},
   "source": [
    "This linear regression model predicts house prices based on square footage of living area. The model indicates that, on average, each additional square foot of living area is associated with an increase in price of approximately $282.36. The intercept term suggests that the price of a house with zero square feet of living area (which is not practically meaningful) is approximately -$46,600. The model explains about 49.8% of the variance in house prices, as indicated by the R-squared value. Additionally, the F-statistic suggests that the overall model is statistically significant. However, the large condition number and the presence of strong skewness and kurtosis in the residuals indicate potential issues with the model's assumptions and potential for multicollinearity or other numerical problems."
   ]
  },
  {
   "cell_type": "code",
   "execution_count": 50,
   "metadata": {},
   "outputs": [
    {
     "data": {
      "image/png": "[encoded data removed]",
      "text/plain": [
       "<Figure size 432x288 with 1 Axes>"
      ]
     },
     "metadata": {},
     "output_type": "display_data"
    }
   ],
   "source": [
    "import matplotlib.pyplot as plt\n",
    "\n",
    "# Plot the scatter plot of the data points\n",
    "plt.scatter(X_test, y_test, color='blue', label='Actual Prices')\n",
    "\n",
    "# Plot the regression line\n",
    "plt.plot(X_test, baseline_model.predict(X_test), color='red', label='Regression Line')\n",
    "\n",
    "# Add labels and legend\n",
    "plt.xlabel('Square Footage of Living Area')\n",
    "plt.ylabel('Price')\n",
    "plt.title('Regression Line for House Prices')\n",
    "plt.legend()\n",
    "\n",
    "# Show plot\n",
    "plt.show()\n"
   ]
  },
  {
   "cell_type": "markdown",
   "metadata": {},
   "source": [
    "#### Multiple Linear Regression"
   ]
  },
  {
   "cell_type": "code",
   "execution_count": 58,
   "metadata": {},
   "outputs": [],
   "source": [
    "from sklearn.model_selection import train_test_split\n",
    "from sklearn.preprocessing import OneHotEncoder, StandardScaler\n",
    "import pandas as pd\n",
    "\n",
    "def train_test(df, target, test_size=0.20, random_state=42):\n",
    "    '''\n",
    "    This function takes in a dataframe df and target column and returns the train and test split\n",
    "    Default test size is 20, default random state is 42\n",
    "    '''\n",
    "    \n",
    "    # Drop rows with missing values\n",
    "    df = df.dropna()\n",
    "    \n",
    "    # Separating predictors (X) and target (y)\n",
    "    X = df.drop(target, axis=1)\n",
    "    y = df[target]\n",
    "    \n",
    "    # Creating train-test split\n",
    "    X_train, X_test, y_train, y_test = train_test_split(X, y, test_size=test_size, random_state=random_state)\n",
    "    \n",
    "    # Resetting indices to ensure alignment\n",
    "    X_train.reset_index(drop=True, inplace=True)\n",
    "    X_test.reset_index(drop=True, inplace=True)\n",
    "    y_train.reset_index(drop=True, inplace=True)\n",
    "    y_test.reset_index(drop=True, inplace=True)\n",
    "    \n",
    "    # Selecting categorical columns\n",
    "    categorical = X.select_dtypes(include=['object']).columns.tolist()\n",
    "    \n",
    "    # Instantiating OneHotEncoder object\n",
    "    ohe = OneHotEncoder(sparse_output=False, handle_unknown='error', drop='first')\n",
    "    \n",
    "    # Fitting and transforming categorical features on train and test sets\n",
    "    X_train_ohe = ohe.fit_transform(X_train[categorical])\n",
    "    X_test_ohe = ohe.transform(X_test[categorical])\n",
    "\n",
    "    # Get feature names for one-hot encoded columns\n",
    "    feature_names = []\n",
    "    for cat, categories in zip(categorical, ohe.categories_):\n",
    "        feature_names.extend([f\"{cat}_{val}\" for val in categories[1:]])  # Skip the first category\n",
    "        \n",
    "    # Placing column names onto new categorical columns and formatting as DataFrame\n",
    "    X_train_ohe_df = pd.DataFrame(X_train_ohe, columns=feature_names)\n",
    "    X_test_ohe_df = pd.DataFrame(X_test_ohe, columns=feature_names)\n",
    "    \n",
    "    # Combining categoricals with rest of data\n",
    "    X_train = pd.concat([X_train.select_dtypes(include=['number']), X_train_ohe_df], axis=1)\n",
    "    X_test = pd.concat([X_test.select_dtypes(include=['number']), X_test_ohe_df], axis=1)\n",
    "\n",
    "    # List to hold X_train and X_test\n",
    "    X_list = [X_train, X_test]\n",
    "    \n",
    "    # Scaling X values into z-scores\n",
    "    ss = StandardScaler()\n",
    "    for i in range(len(X_list)):\n",
    "        X_list[i] = pd.DataFrame(ss.fit_transform(X_list[i]), columns=X_list[i].columns)\n",
    "        \n",
    "    # Unpacking the list\n",
    "    X_train, X_test = X_list\n",
    "    \n",
    "    return X_train, X_test, y_train, y_test\n",
    "    # Split data into train and test\n",
    "    X_train, X_test, y_train, y_test = train_test(output, 'price')"
   ]
  },
  {
   "cell_type": "code",
   "execution_count": 59,
   "metadata": {},
   "outputs": [
    {
     "data": {
      "image/png": "[encoded data removed]",
      "text/plain": [
       "<Figure size 864x576 with 1 Axes>"
      ]
     },
     "metadata": {},
     "output_type": "display_data"
    }
   ],
   "source": [
    "# Define your actual_vs_predicted function here\n",
    "def actual_vs_predicted(model, X_test, y_test):\n",
    "    \"\"\"\n",
    "    Plots the actual y vs the predicted y\n",
    "    \"\"\"\n",
    "    y_predicted = model.predict(X_test)\n",
    "    fig, ax = plt.subplots(figsize=(12,8))\n",
    "    ax.scatter(x=y_test, y=y_predicted)\n",
    "    ax.set_xlabel(\"Actual Price Values\")\n",
    "    ax.set_ylabel(\"Predicted Price Values\")\n",
    "    ax.set_title(\"Actual vs Predicted\")\n",
    "    \n",
    "    p1 = max(max(y_test), max(y_predicted))\n",
    "    p2 = min(min(y_test), min(y_predicted))\n",
    "    plt.plot([p1, p2], [p1, p2], 'b-')\n",
    "\n",
    "# Create linear regression model for price\n",
    "model1 = LinearRegression()\n",
    "model1.fit(X_train, y_train)\n",
    "\n",
    "# Plot actual vs predicted\n",
    "actual_vs_predicted(model1, X_test, y_test)"
   ]
  },
  {
   "cell_type": "code",
   "execution_count": 60,
   "metadata": {},
   "outputs": [],
   "source": [
    "#add constant to X_train\n",
    "X_train = sm.add_constant(X_train)\n",
    "\n",
    "#find OLS for train data set\n",
    "model1_ols = sm.OLS(y_train, X_train).fit()"
   ]
  },
  {
   "cell_type": "code",
   "execution_count": 61,
   "metadata": {},
   "outputs": [
    {
     "data": {
      "text/html": [
       "<table class=\"simpletable\">\n",
       "<caption>OLS Regression Results</caption>\n",
       "<tr>\n",
       "  <th>Dep. Variable:</th>          <td>price</td>      <th>  R-squared:         </th>  <td>   0.498</td>  \n",
       "</tr>\n",
       "<tr>\n",
       "  <th>Model:</th>                   <td>OLS</td>       <th>  Adj. R-squared:    </th>  <td>   0.498</td>  \n",
       "</tr>\n",
       "<tr>\n",
       "  <th>Method:</th>             <td>Least Squares</td>  <th>  F-statistic:       </th>  <td>1.678e+04</td> \n",
       "</tr>\n",
       "<tr>\n",
       "  <th>Date:</th>             <td>Tue, 30 Apr 2024</td> <th>  Prob (F-statistic):</th>   <td>  0.00</td>   \n",
       "</tr>\n",
       "<tr>\n",
       "  <th>Time:</th>                 <td>21:13:56</td>     <th>  Log-Likelihood:    </th> <td>-2.3500e+05</td>\n",
       "</tr>\n",
       "<tr>\n",
       "  <th>No. Observations:</th>      <td> 16914</td>      <th>  AIC:               </th>  <td>4.700e+05</td> \n",
       "</tr>\n",
       "<tr>\n",
       "  <th>Df Residuals:</th>          <td> 16912</td>      <th>  BIC:               </th>  <td>4.700e+05</td> \n",
       "</tr>\n",
       "<tr>\n",
       "  <th>Df Model:</th>              <td>     1</td>      <th>                     </th>      <td> </td>     \n",
       "</tr>\n",
       "<tr>\n",
       "  <th>Covariance Type:</th>      <td>nonrobust</td>    <th>                     </th>      <td> </td>     \n",
       "</tr>\n",
       "</table>\n",
       "<table class=\"simpletable\">\n",
       "<tr>\n",
       "       <td></td>          <th>coef</th>     <th>std err</th>      <th>t</th>      <th>P>|t|</th>  <th>[0.025</th>    <th>0.975]</th>  \n",
       "</tr>\n",
       "<tr>\n",
       "  <th>const</th>       <td> -4.66e+04</td> <td> 4959.944</td> <td>   -9.395</td> <td> 0.000</td> <td>-5.63e+04</td> <td>-3.69e+04</td>\n",
       "</tr>\n",
       "<tr>\n",
       "  <th>sqft_living</th> <td>  282.3650</td> <td>    2.180</td> <td>  129.546</td> <td> 0.000</td> <td>  278.093</td> <td>  286.637</td>\n",
       "</tr>\n",
       "</table>\n",
       "<table class=\"simpletable\">\n",
       "<tr>\n",
       "  <th>Omnibus:</th>       <td>11454.600</td> <th>  Durbin-Watson:     </th>  <td>   2.022</td> \n",
       "</tr>\n",
       "<tr>\n",
       "  <th>Prob(Omnibus):</th>  <td> 0.000</td>   <th>  Jarque-Bera (JB):  </th> <td>401978.016</td>\n",
       "</tr>\n",
       "<tr>\n",
       "  <th>Skew:</th>           <td> 2.781</td>   <th>  Prob(JB):          </th>  <td>    0.00</td> \n",
       "</tr>\n",
       "<tr>\n",
       "  <th>Kurtosis:</th>       <td>26.226</td>   <th>  Cond. No.          </th>  <td>5.61e+03</td> \n",
       "</tr>\n",
       "</table><br/><br/>Notes:<br/>[1] Standard Errors assume that the covariance matrix of the errors is correctly specified.<br/>[2] The condition number is large, 5.61e+03. This might indicate that there are<br/>strong multicollinearity or other numerical problems."
      ],
      "text/plain": [
       "<class 'statsmodels.iolib.summary.Summary'>\n",
       "\"\"\"\n",
       "                            OLS Regression Results                            \n",
       "==============================================================================\n",
       "Dep. Variable:                  price   R-squared:                       0.498\n",
       "Model:                            OLS   Adj. R-squared:                  0.498\n",
       "Method:                 Least Squares   F-statistic:                 1.678e+04\n",
       "Date:                Tue, 30 Apr 2024   Prob (F-statistic):               0.00\n",
       "Time:                        21:13:56   Log-Likelihood:            -2.3500e+05\n",
       "No. Observations:               16914   AIC:                         4.700e+05\n",
       "Df Residuals:                   16912   BIC:                         4.700e+05\n",
       "Df Model:                           1                                         \n",
       "Covariance Type:            nonrobust                                         \n",
       "===============================================================================\n",
       "                  coef    std err          t      P>|t|      [0.025      0.975]\n",
       "-------------------------------------------------------------------------------\n",
       "const        -4.66e+04   4959.944     -9.395      0.000   -5.63e+04   -3.69e+04\n",
       "sqft_living   282.3650      2.180    129.546      0.000     278.093     286.637\n",
       "==============================================================================\n",
       "Omnibus:                    11454.600   Durbin-Watson:                   2.022\n",
       "Prob(Omnibus):                  0.000   Jarque-Bera (JB):           401978.016\n",
       "Skew:                           2.781   Prob(JB):                         0.00\n",
       "Kurtosis:                      26.226   Cond. No.                     5.61e+03\n",
       "==============================================================================\n",
       "\n",
       "Notes:\n",
       "[1] Standard Errors assume that the covariance matrix of the errors is correctly specified.\n",
       "[2] The condition number is large, 5.61e+03. This might indicate that there are\n",
       "strong multicollinearity or other numerical problems.\n",
       "\"\"\""
      ]
     },
     "execution_count": 61,
     "metadata": {},
     "output_type": "execute_result"
    }
   ],
   "source": [
    "model1_ols.summary()"
   ]
  },
  {
   "cell_type": "markdown",
   "metadata": {},
   "source": [
    "### Findings"
   ]
  },
  {
   "cell_type": "markdown",
   "metadata": {},
   "source": [
    "\n",
    "1. **Linear Regression:**\n",
    "   - The baseline linear regression model predicts house prices based solely on the square footage of living area.\n",
    "   - The model's performance metrics are as follows:\n",
    "     - Train RMSE: 261,631.49\n",
    "     - Test RMSE: 263,524.61\n",
    "     - Train MSE: 68,451,037,121.75\n",
    "     - Test MSE: 69,445,217,468.84\n",
    "     - Train R-squared: 0.498\n",
    "     - Test R-squared: 0.473\n",
    "   - The model exhibits moderate performance, with reasonably close predictions to actual prices and a moderate explanatory power, capturing about 49.8% of the variance in house prices.\n",
    "   - The regression results indicate that each additional square foot of living area is associated with an increase in price of approximately $282.37.\n",
    "   - However, the presence of strong skewness and kurtosis in the residuals, along with a large condition number, suggests potential issues with the model's assumptions and multicollinearity.\n",
    "\n",
    "2. **Multiple Linear Regression:**\n",
    "   - The multiple linear regression model extends the prediction by incorporating additional features besides square footage of living area.\n",
    "   - The model's performance is similar to the baseline linear regression model, with a comparable R-squared value of 0.498.\n",
    "   - The regression results confirm that square footage of living area has a significant positive effect on house prices, with an estimated coefficient of approximately 282.37.\n",
    "   - Again, the large condition number indicates potential issues with multicollinearity or other numerical problems in the model."
   ]
  },
  {
   "cell_type": "markdown",
   "metadata": {},
   "source": [
    " The multiple linear regression model is better than the simple linear regression model because The multiple linear regression model has a slightly higher R-squared value (0.498) compared to the simple linear regression model (0.498 vs. 0.473). A higher R-squared value indicates that the multiple linear regression model explains a larger proportion of the variance in the target variable (house prices) compared to the simple linear regression model.\n",
    "\n"
   ]
  },
  {
   "cell_type": "markdown",
   "metadata": {},
   "source": [
    "### Recommendations"
   ]
  },
  {
   "cell_type": "markdown",
   "metadata": {},
   "source": [
    "Based on the findings and results from the linear regression and multiple linear regression models, here are some necessary recommendations to improve the predictive accuracy and explanatory power of the models:\n",
    "\n",
    "1. **Feature Engineering:**\n",
    "   - Explore additional relevant features that might influence house prices, such as the number of bedrooms, bathrooms, location factors, amenities, and neighborhood characteristics.\n",
    "   - Conduct thorough data analysis and research to identify potential predictors that have a strong correlation with house prices.\n",
    "\n",
    "2. **Address Multicollinearity:**\n",
    "   - Investigate the presence of multicollinearity among the predictor variables, especially in the multiple linear regression model.\n",
    "   - Use techniques such as variance inflation factor (VIF) analysis to identify and mitigate multicollinearity by removing highly correlated predictors or employing dimensionality reduction techniques.\n",
    "\n",
    "3. **Model Assumptions:**\n",
    "   - Validate the assumptions of the regression models, including linearity, homoscedasticity, normality of residuals, and independence of errors.\n",
    "   - Apply appropriate transformations or adjustments to the data to meet these assumptions if necessary.\n",
    "\n",
    "4. **Regularization Techniques:**\n",
    "   - Implement regularization techniques like Ridge regression or Lasso regression to prevent overfitting and improve model generalization, especially in cases of high-dimensional data or multicollinearity."
   ]
  },
  {
   "cell_type": "markdown",
   "metadata": {},
   "source": []
  }
 ],
 "metadata": {
  "kernelspec": {
   "display_name": "Python 3",
   "language": "python",
   "name": "python3"
  },
  "language_info": {
   "codemirror_mode": {
    "name": "ipython",
    "version": 3
   },
   "file_extension": ".py",
   "mimetype": "text/x-python",
   "name": "python",
   "nbconvert_exporter": "python",
   "pygments_lexer": "ipython3",
   "version": "3.8.5"
  }
 },
 "nbformat": 4,
 "nbformat_minor": 2
}
